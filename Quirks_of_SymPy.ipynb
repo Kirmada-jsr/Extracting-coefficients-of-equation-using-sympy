{
 "cells": [
  {
   "cell_type": "code",
   "execution_count": 1,
   "id": "3a597cac-19bc-48b9-b8a0-08621d2aba8d",
   "metadata": {},
   "outputs": [],
   "source": [
    "import matplotlib.pyplot as plt \n",
    "import numpy as np\n",
    "import pandas as pd\n",
    "import seaborn as sns\n",
    "from sympy import Point3D, Plane \n",
    "from mpl_toolkits.mplot3d import Axes3D\n",
    "from sympy import Symbol"
   ]
  },
  {
   "cell_type": "code",
   "execution_count": 2,
   "id": "98f8afe5-f7b5-4632-b39f-51ccf3318611",
   "metadata": {},
   "outputs": [],
   "source": [
    "plane1 = Plane(Point3D(1,1,1), Point3D(1,2,4), Point3D(3,4,2))"
   ]
  },
  {
   "cell_type": "code",
   "execution_count": 3,
   "id": "9015e3ee-b9a6-4654-a564-0cedd56bd01b",
   "metadata": {},
   "outputs": [],
   "source": [
    "# a, b, c, d = plane1.equation().coeffs() this will not work if any one coefficient is zero \n",
    "# therefore we will use the following code: "
   ]
  },
  {
   "cell_type": "code",
   "execution_count": 4,
   "id": "126019f6-311a-4e92-bd75-5764a17ee6b5",
   "metadata": {},
   "outputs": [
    {
     "name": "stdout",
     "output_type": "stream",
     "text": [
      "-8*x + 6*y - 2*z + 4\n"
     ]
    }
   ],
   "source": [
    "from sympy import Eq, symbols, expand\n",
    "\n",
    "plane_eq = plane1.equation()\n",
    "print(plane_eq)"
   ]
  },
  {
   "cell_type": "code",
   "execution_count": 5,
   "id": "8877eebd-d646-4850-9aeb-fa960d6b6b98",
   "metadata": {},
   "outputs": [],
   "source": [
    "coeff_dict = plane_eq.as_coefficients_dict()"
   ]
  },
  {
   "cell_type": "code",
   "execution_count": 6,
   "id": "3691a9c4-935b-4e57-94f3-215942bb10a1",
   "metadata": {},
   "outputs": [],
   "source": [
    "x, y, z = symbols('x y z')"
   ]
  },
  {
   "cell_type": "code",
   "execution_count": 7,
   "id": "5e7baac6-80d4-446a-ab75-c7d4b7f7d17f",
   "metadata": {},
   "outputs": [
    {
     "name": "stdout",
     "output_type": "stream",
     "text": [
      "defaultdict(<class 'int'>, {1: 4, x: -8, z: -2, y: 6})\n"
     ]
    }
   ],
   "source": [
    "print(coeff_dict)"
   ]
  },
  {
   "cell_type": "code",
   "execution_count": 8,
   "id": "a7b43998-297a-4cbc-9572-0881af97a656",
   "metadata": {},
   "outputs": [
    {
     "name": "stdout",
     "output_type": "stream",
     "text": [
      "Type of 'x' key: <class 'sympy.core.symbol.Symbol'>\n"
     ]
    }
   ],
   "source": [
    "x_key = next(key for key in coeff_dict.keys() if str(key) == 'x')\n",
    "print(f\"Type of 'x' key: {type(x_key)}\")"
   ]
  },
  {
   "cell_type": "code",
   "execution_count": 9,
   "id": "43cfed5a-532d-43f2-a17a-62bce2271ea0",
   "metadata": {},
   "outputs": [
    {
     "data": {
      "text/plain": [
       "'from sympy import Symbol\\n\\n# Create SymPy symbols\\nx = Symbol(\\'x\\')\\ny = Symbol(\\'y\\')\\nz = Symbol(\\'z\\')\\n\\n# Access the coefficients\\na = coeff_dict[x]\\nb = coeff_dict[y]\\nc = coeff_dict[z]\\nd = coeff_dict[1]  # The constant term is still accessed with 1\\n\\nprint(f\"a = {a}\")\\nprint(f\"b = {b}\")\\nprint(f\"c = {c}\")\\nprint(f\"d = {d}\")'"
      ]
     },
     "execution_count": 9,
     "metadata": {},
     "output_type": "execute_result"
    }
   ],
   "source": [
    "'''from sympy import Symbol\n",
    "\n",
    "# Create SymPy symbols\n",
    "x = Symbol('x')\n",
    "y = Symbol('y')\n",
    "z = Symbol('z')\n",
    "\n",
    "# Access the coefficients\n",
    "a = coeff_dict[x]\n",
    "b = coeff_dict[y]\n",
    "c = coeff_dict[z]\n",
    "d = coeff_dict[1]  # The constant term is still accessed with 1\n",
    "\n",
    "print(f\"a = {a}\")\n",
    "print(f\"b = {b}\")\n",
    "print(f\"c = {c}\")\n",
    "print(f\"d = {d}\")'''"
   ]
  },
  {
   "cell_type": "raw",
   "id": "8abf944d-a7f3-4b96-8d6d-a2e84b16032c",
   "metadata": {},
   "source": [
    "This cell actually creates a set of x, y and z instances in the dictionary which are mapped to 0. The reason why this happens is that\n",
    "when using deafultdict[key], if the key is not present it will be created and the value will be set to 0 because the default value of the \n",
    "int type is 0. Then when we access the value of the key, it actually points to the instance that we created by using deafultdict[key]. \n",
    "the actual coefficient value is stored in the instance of x, y and z which were created by the .equation() method which we cannot access. "
   ]
  },
  {
   "cell_type": "code",
   "execution_count": 10,
   "id": "ab058957-74ba-456c-99ca-5fba59b88e42",
   "metadata": {},
   "outputs": [
    {
     "name": "stdout",
     "output_type": "stream",
     "text": [
      "Keys in the dictionary:\n",
      "Other: 1, Type: <class 'sympy.core.numbers.One'>\n",
      "Symbol: x, Hash: 4341100751197139815\n",
      "Symbol: z, Hash: 187469610793603797\n",
      "Symbol: y, Hash: -4686510582700312146\n"
     ]
    }
   ],
   "source": [
    "print(\"Keys in the dictionary:\")\n",
    "for key in coeff_dict.keys():\n",
    "    if isinstance(key, Symbol):\n",
    "        print(f\"Symbol: {key}, Hash: {hash(key)}\")\n",
    "    else:\n",
    "        print(f\"Other: {key}, Type: {type(key)}\")"
   ]
  },
  {
   "cell_type": "markdown",
   "id": "7343f798-ab89-47c1-bdba-94b55ec96711",
   "metadata": {},
   "source": [
    "If we were to uncomment the section of code that adds duplicate instances, then we would see that the number of values in the above cell increases to 7 becuase of the three extra values of x,y,z which are duplicates. "
   ]
  },
  {
   "cell_type": "code",
   "execution_count": 11,
   "id": "b3dce932-711a-4cbe-b52b-87cc720052e6",
   "metadata": {},
   "outputs": [
    {
     "name": "stdout",
     "output_type": "stream",
     "text": [
      "a = -8\n",
      "b = 6\n",
      "c = -2\n",
      "d = 4\n"
     ]
    }
   ],
   "source": [
    "def get_coeff(symbol_str):\n",
    "    return sum(v for k, v in coeff_dict.items() if isinstance(k, Symbol) and str(k) == symbol_str)\n",
    "\n",
    "# Extract coefficients\n",
    "a = get_coeff('x')\n",
    "b = get_coeff('y')\n",
    "c = get_coeff('z')\n",
    "d = coeff_dict[1]  # This should work for the SymPy One object\n",
    "\n",
    "print(f\"a = {a}\")\n",
    "print(f\"b = {b}\")\n",
    "print(f\"c = {c}\")\n",
    "print(f\"d = {d}\") "
   ]
  },
  {
   "cell_type": "raw",
   "id": "5ad34884-51c9-4ef0-be0d-587556be0eaf",
   "metadata": {},
   "source": [
    "These lines of code are the solution to the multiple instances problem, basically what we are doing is, we check each key and if the key is an instance of the symbol say (x) then we check whether the name or \"string representation\" of the key matches the variable who's coefficient we are trying to find. If it does, then we add the value to the sum. So even if there are duplicate instances of the same variable then we would still get the correct answer since the duplicates would be initialized to the values of 0. Though this would give bad results if the values of duplicates somehow get changed to different numbers."
   ]
  },
  {
   "cell_type": "raw",
   "id": "20c00583-aa53-4a85-950b-d0709c2ba70e",
   "metadata": {},
   "source": [
    "There is no other workaround if we want to use this dictionary as for the calculations since we cannot access the keys of this dictionary as those variable symbols were created by an algorithm and cannot be retrieved. One workaround might be to use a new dictionary to store the values of the coefficients of these symbols. "
   ]
  },
  {
   "cell_type": "code",
   "execution_count": null,
   "id": "7ddbe78a-0f0d-4043-8486-820c209ee2c1",
   "metadata": {},
   "outputs": [],
   "source": []
  }
 ],
 "metadata": {
  "kernelspec": {
   "display_name": "Python 3 (ipykernel)",
   "language": "python",
   "name": "python3"
  },
  "language_info": {
   "codemirror_mode": {
    "name": "ipython",
    "version": 3
   },
   "file_extension": ".py",
   "mimetype": "text/x-python",
   "name": "python",
   "nbconvert_exporter": "python",
   "pygments_lexer": "ipython3",
   "version": "3.12.6"
  }
 },
 "nbformat": 4,
 "nbformat_minor": 5
}
